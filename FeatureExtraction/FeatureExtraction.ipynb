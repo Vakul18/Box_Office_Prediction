{
 "cells": [
  {
   "cell_type": "code",
   "execution_count": 9,
   "metadata": {},
   "outputs": [],
   "source": [
    "import math\n",
    "import json\n",
    "form datetime import datetime\n",
    "import pandas as pd\n",
    "import numpy as np"
   ]
  },
  {
   "cell_type": "code",
   "execution_count": 12,
   "metadata": {
    "colab": {},
    "colab_type": "code",
    "id": "5bjWdYn97dpw"
   },
   "outputs": [],
   "source": [
    "dataFrameTrain = pd.read_csv('../Data/train.csv')"
   ]
  },
  {
   "cell_type": "code",
   "execution_count": 13,
   "metadata": {
    "colab": {},
    "colab_type": "code",
    "id": "VFmvn1FV7dqA"
   },
   "outputs": [],
   "source": [
    "\n",
    "def FindIdInColumn(column,colNam,callBack,fieldName)\n",
    "    \n",
    "    for i in range(0,len(column)):\n",
    "        collectionJson = column[i]\n",
    "        if type(collectionJson) !=str or collectionJson == '':\n",
    "            dataFrame.at[i,colName] = np.nan\n",
    "            continue\n",
    "        idIndex = collectionJson.find(fieldName,idIndex,len(collectionJson))\n",
    "        while idIndex != -1:\n",
    "            idStr = ''\n",
    "            j = idIndex+4\n",
    "            while collectionJson[j]!=',':\n",
    "                if not collectionJson[j].isspace():\n",
    "                    idStr = idStr + collectionJson[j]\n",
    "                j=j+1\n",
    "            callBack(i,idStr)\n",
    "            idIndex = idIndex+2\n",
    "            idIndex = collectionJson.find(fieldName,idIndex,len(collectionJson))\n",
    "\n",
    "def CreateOrAddValueToCol(i,colName):\n",
    "    if colName not in dataFrameTrain.columns:\n",
    "          colIndex = len(dataFrameTrain.columns)\n",
    "          dataFrameTrain.insert(colIndex,colName,0)\n",
    "    dataFrameTrain.at[i,valueName] = 1\n",
    "    \n",
    "            \n",
    "FindIdColumn(dataFrameTrain['belongs_to_collection'],lambda i,idStr:dataFrameTrain.at[i,'belongs_to_collection'] = int(idStr),'id')\n",
    "FindIdColumn(dataFrameTrain['genres'],CreateOrAddValueToCol,'id')\n",
    "FindIdColumn(dataFrameTrain['production_companies'],CreateOrAddValueToCol,'id')\n",
    "FindIdColumn(dataFrameTrain['production_countries'],CreateOrAddValueToCol,'name')\n",
    "FindIdColumn(dataFrameTrain['Keywords'],CreateOrAddValueToCol,'id')\n",
    "FindIdColumn(dataFrameTrain['cast'],CreateOrAddValueToCol,'id')\n",
    "FindIdColumn(dataFrameTrain['crew'],CreateOrAddValueToCol,'id')"
   ]
  },
  {
   "cell_type": "code",
   "execution_count": 14,
   "metadata": {},
   "outputs": [],
   "source": [
    "budgetCollection = dataFrameTrain.budget\n",
    "for i in range(0,len(budgetCollection)):\n",
    "    budget = budgetCollection[i]\n",
    "    if(budget==0):\n",
    "        dataFrameTrain.loc[i,'budget'] = np.nan"
   ]
  },
  {
   "cell_type": "code",
   "execution_count": 15,
   "metadata": {},
   "outputs": [],
   "source": [
    "dict = {language: id for id, language in enumerate(set(dataFrameTrain.original_language))}\n",
    "dataFrameTrain.original_language = [dict[language] for language in dataFrameTrain.original_language]\n"
   ]
  },
  {
   "cell_type": "code",
   "execution_count": 11,
   "metadata": {
    "colab": {
     "base_uri": "https://localhost:8080/",
     "height": 649
    },
    "colab_type": "code",
    "id": "WTMacHuHt6it",
    "outputId": "de0d2e27-0365-4a60-f524-4526adca744c"
   },
   "outputs": [],
   "source": [
    "releaseDateCol = dataFrameTrain['release_date']\n",
    "for i in range(0,len(relaseDateCol)):\n",
    "    strDate = releaseDateCol[i]\n",
    "    date = datetime.strptime(strDate, '%m/%d/%y')\n",
    "    dataFrameTrain.at[i,'day'] = date.day\n",
    "    dataFrameTrain.at[i,'month'] = date.month\n",
    "    dataFrameTrain.at[i,'year'] = date.year"
   ]
  }
 ],
 "metadata": {
  "colab": {
   "collapsed_sections": [],
   "name": "FeatureExtraction.ipynb",
   "provenance": []
  },
  "kernelspec": {
   "display_name": "Python 3",
   "language": "python",
   "name": "python3"
  },
  "language_info": {
   "codemirror_mode": {
    "name": "ipython",
    "version": 3
   },
   "file_extension": ".py",
   "mimetype": "text/x-python",
   "name": "python",
   "nbconvert_exporter": "python",
   "pygments_lexer": "ipython3",
   "version": "3.7.5"
  }
 },
 "nbformat": 4,
 "nbformat_minor": 1
}
